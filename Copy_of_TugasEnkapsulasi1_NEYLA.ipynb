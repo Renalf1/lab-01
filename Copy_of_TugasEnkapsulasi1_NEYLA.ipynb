{
  "nbformat": 4,
  "nbformat_minor": 0,
  "metadata": {
    "colab": {
      "provenance": [],
      "include_colab_link": true
    },
    "kernelspec": {
      "name": "python3",
      "display_name": "Python 3"
    },
    "language_info": {
      "name": "python"
    }
  },
  "cells": [
    {
      "cell_type": "markdown",
      "metadata": {
        "id": "view-in-github",
        "colab_type": "text"
      },
      "source": [
        "<a href=\"https://colab.research.google.com/github/Renalf1/lab-01/blob/main/Copy_of_TugasEnkapsulasi1_NEYLA.ipynb\" target=\"_parent\"><img src=\"https://colab.research.google.com/assets/colab-badge.svg\" alt=\"Open In Colab\"/></a>"
      ]
    },
    {
      "cell_type": "code",
      "execution_count": 7,
      "metadata": {
        "id": "ihePdlIsSR5E"
      },
      "outputs": [],
      "source": [
        "class Karyawan:\n",
        "  def __init__(self, nama, gaji):\n",
        "    #Deklarasi dan inisialisai variabel privat untuk nama\n",
        "    self.__nama = nama\n",
        "    #Deklarasi dan inisialisai variabel privat untuk gaji\n",
        "    self.__gaji = gaji\n",
        "\n",
        "  # Fungsi untuk mengakses nama\n",
        "  def get_nama(self):\n",
        "    return self.__nama\n",
        "\n",
        "  # Fungsi untuk mengubah nama\n",
        "  def set_nama(self, nama):\n",
        "    self.__nama = nama\n",
        "\n",
        "  # Fungsi untuk mengakses gaji\n",
        "  def get_gaji(self):\n",
        "    return self.__gaji\n",
        "\n",
        "  # Fungsi untuk mengubah gaji\n",
        "  def set_gaji(self, gaji):\n",
        "    if gaji > 1000000:\n",
        "      self.__gaji = 1000000\n",
        "    elif gaji < 2000000:\n",
        "      self.__gaji = 2000000\n",
        "    else:\n",
        "      self.__gaji = gaji"
      ]
    },
    {
      "cell_type": "code",
      "source": [
        "# Membuat objek Karyawan dengan nama Ahmad dengan gaji 4000000\n",
        "karyawan1 = Karyawan('Ahmad', 4000000)\n",
        "\n",
        "# Mengakses/menampilkan nama dan gaji menggunakan fungsi\n",
        "print(karyawan1.get_nama())\n",
        "print('Nama saya', karyawan1.get_nama(), 'dengan gaji perbulannya sebesar Rp.', karyawan1.get_gaji())\n",
        "\n",
        "# Mengubah nama menjadi nama anda masing-masing dan gaji bebas menggunakan fungsi\n",
        "karyawan1.set_nama('Neyla')\n",
        "karyawan1.set_gaji(2500000)\n",
        "\n",
        "# Mengakses/menampilkan nama dan gaji setelah diubah\n",
        "print('Nama saya', karyawan1.get_nama(), 'dengan gaji perbulannya sebesar Rp.', karyawan1.get_gaji())"
      ],
      "metadata": {
        "id": "aOwy6rfdSga2",
        "colab": {
          "base_uri": "https://localhost:8080/"
        },
        "outputId": "6f8414c9-7419-480c-bf65-0a66616e389c"
      },
      "execution_count": 9,
      "outputs": [
        {
          "output_type": "stream",
          "name": "stdout",
          "text": [
            "Ahmad\n",
            "Nama saya Ahmad dengan gaji perbulannya sebesar Rp. 4000000\n",
            "Nama saya Neyla dengan gaji perbulannya sebesar Rp. 2500000\n"
          ]
        }
      ]
    }
  ]
}