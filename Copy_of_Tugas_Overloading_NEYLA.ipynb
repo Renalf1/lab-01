{
  "nbformat": 4,
  "nbformat_minor": 0,
  "metadata": {
    "colab": {
      "provenance": [],
      "include_colab_link": true
    },
    "kernelspec": {
      "name": "python3",
      "display_name": "Python 3"
    },
    "language_info": {
      "name": "python"
    }
  },
  "cells": [
    {
      "cell_type": "markdown",
      "metadata": {
        "id": "view-in-github",
        "colab_type": "text"
      },
      "source": [
        "<a href=\"https://colab.research.google.com/github/Renalf1/lab-01/blob/main/Copy_of_Tugas_Overloading_NEYLA.ipynb\" target=\"_parent\"><img src=\"https://colab.research.google.com/assets/colab-badge.svg\" alt=\"Open In Colab\"/></a>"
      ]
    },
    {
      "cell_type": "code",
      "execution_count": 8,
      "metadata": {
        "id": "cytAUNWzM1-6"
      },
      "outputs": [],
      "source": [
        "#Buat Perkalian yang memiliki Sebuah fungsi dangan nama Hitung\n",
        "class Perkalian:\n",
        "  def Hitung(self, a, b):\n",
        "    p = a * b\n",
        "    print(p)\n",
        "\n",
        "  def Hitung1(self, a, b, c):\n",
        "    p = a * b * c\n",
        "    print(p)\n",
        "\n",
        "  def Hitung2(self, a, b, c, d):\n",
        "    p = a * b * c * d\n",
        "    print(p)\n",
        "\n",
        "  def hasill(self, *args):\n",
        "      if (len(args) <= 4):\n",
        "          sum = 1\n",
        "          for num in args:\n",
        "              sum *= num\n",
        "          print(sum)\n",
        "      else:\n",
        "          print(\"Maksimum 4 argumen\")"
      ]
    },
    {
      "cell_type": "code",
      "source": [
        "#Buat main program\n",
        "coba = Perkalian()\n",
        "#Panggil fungsi Hitung untuk menghitung 2 parameter\n",
        "coba.Hitung(1, 2)\n",
        "#Panggil fungsi Hitung untuk menghitung 3 parameter\n",
        "coba.Hitung1(1, 2, 3)\n",
        "#Panggil fungsi Hitung untuk menghitung 4 parameter\n",
        "coba.Hitung2(1, 2, 3, 4)\n",
        "print('-------')\n",
        "coba.hasill(1, 2)\n",
        "coba.hasill(1, 2, 3)\n",
        "coba.hasill(1, 2, 3, 4)\n",
        "coba.hasill(1, 2, 3, 4, 5)"
      ],
      "metadata": {
        "id": "W9hN-kX7PDUI",
        "colab": {
          "base_uri": "https://localhost:8080/"
        },
        "outputId": "859c33c2-ea37-4ccd-dee6-41f7670fceec"
      },
      "execution_count": 10,
      "outputs": [
        {
          "output_type": "stream",
          "name": "stdout",
          "text": [
            "2\n",
            "6\n",
            "24\n",
            "-------\n",
            "2\n",
            "6\n",
            "24\n",
            "Maksimum 4 argumen\n"
          ]
        }
      ]
    }
  ]
}